{
 "nbformat": 4,
 "nbformat_minor": 2,
 "metadata": {
  "language_info": {
   "name": "python",
   "codemirror_mode": {
    "name": "ipython",
    "version": 3
   }
  },
  "orig_nbformat": 2,
  "file_extension": ".py",
  "mimetype": "text/x-python",
  "name": "python",
  "npconvert_exporter": "python",
  "pygments_lexer": "ipython3",
  "version": 3
 },
 "cells": [
  {
   "cell_type": "markdown",
   "metadata": {},
   "source": [
    "|          | final valid        | average            |\n",
    "| -------- | ------------------ | ------------------ |\n",
    "| baseline | 0.905679012345679  | 0.5134979423868313 |\n",
    "| ewc      | 0.9202469135802469 | 0.5199725651577504 |"
   ]
  }
 ]
}